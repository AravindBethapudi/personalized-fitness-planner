{
 "cells": [
  {
   "cell_type": "code",
   "execution_count": 1,
   "id": "a79b3b66-0baa-43fc-82fe-e3745e5d84b3",
   "metadata": {},
   "outputs": [],
   "source": [
    "import os\n",
    "import requests\n",
    "from bs4 import BeautifulSoup\n",
    "from typing import List\n",
    "from dotenv import load_dotenv\n",
    "from openai import OpenAI\n",
    "import google.generativeai\n",
    "import anthropic"
   ]
  },
  {
   "cell_type": "code",
   "execution_count": 2,
   "id": "e5f9f4c5-1d01-4005-a7b8-eb3bf8b85e01",
   "metadata": {},
   "outputs": [],
   "source": [
    "import gradio as gr"
   ]
  },
  {
   "cell_type": "code",
   "execution_count": 3,
   "id": "9edf9a1d-1df5-40c5-b24c-276697d629a6",
   "metadata": {},
   "outputs": [
    {
     "name": "stdout",
     "output_type": "stream",
     "text": [
      "OpenAI API Key exists and begins sk-proj-\n",
      "Anthropic API Key exists and begins sk-ant-\n",
      "Google API Key exists and begins AIzaSyBL\n"
     ]
    }
   ],
   "source": [
    "load_dotenv()\n",
    "openai_api_key = os.getenv('OPENAI_API_KEY')\n",
    "anthropic_api_key = os.getenv('ANTHROPIC_API_KEY')\n",
    "google_api_key = os.getenv('GOOGLE_API_KEY')\n",
    "\n",
    "if openai_api_key:\n",
    "    print(f\"OpenAI API Key exists and begins {openai_api_key[:8]}\")\n",
    "else:\n",
    "    print(\"OpenAI API Key not set\")\n",
    "    \n",
    "if anthropic_api_key:\n",
    "    print(f\"Anthropic API Key exists and begins {anthropic_api_key[:7]}\")\n",
    "else:\n",
    "    print(\"Anthropic API Key not set\")\n",
    "\n",
    "if google_api_key:\n",
    "    print(f\"Google API Key exists and begins {google_api_key[:8]}\")\n",
    "else:\n",
    "    print(\"Google API Key not set\")"
   ]
  },
  {
   "cell_type": "code",
   "execution_count": 4,
   "id": "758f9452-9f06-4dee-89d1-59b6271c5bff",
   "metadata": {},
   "outputs": [],
   "source": [
    "openai = OpenAI()\n",
    "claude = anthropic.Anthropic()\n",
    "google.generativeai.configure()"
   ]
  },
  {
   "cell_type": "code",
   "execution_count": 5,
   "id": "23ce4d6f-2981-43ea-8d73-a51bde4750a4",
   "metadata": {},
   "outputs": [],
   "source": [
    "system_message = 'You are a helpful Assistant'"
   ]
  },
  {
   "cell_type": "code",
   "execution_count": 6,
   "id": "7b49f4d7-2b81-4293-aa08-e9e70fd3de89",
   "metadata": {},
   "outputs": [],
   "source": [
    "def messages_gpt(prompt):\n",
    "    messages=[\n",
    "        {'role':'system','content': system_message},\n",
    "        {'role':'user', 'content': prompt}\n",
    "    ]\n",
    "    completion = openai.chat.completions.create(\n",
    "        model='gpt-4o-mini',\n",
    "        messages = messages,\n",
    "    )\n",
    "    return completion.choices[0].message.content"
   ]
  },
  {
   "cell_type": "code",
   "execution_count": 7,
   "id": "bdf53323-ab11-4598-95a1-d232080c150c",
   "metadata": {},
   "outputs": [
    {
     "data": {
      "text/plain": [
       "'A banana is a tropical fruit that is typically elongated and curved in shape, with a soft, sweet flesh inside a peel that varies in color from green to yellow as it ripens. The scientific name of the banana plant is Musa, and it belongs to the family Musaceae. Bananas are a good source of several vitamins and minerals, particularly potassium, vitamin C, and vitamin B6. \\n\\nThey grow in clusters and are often eaten raw as a snack, added to cereals or smoothies, or used in baking, such as in banana bread. Bananas are also a significant agricultural product in many tropical countries. The fruit has many varieties, with the Cavendish banana being the most commonly consumed type worldwide. Additionally, bananas are known for producing a natural sugar, mainly fructose, which contributes to their sweetness.'"
      ]
     },
     "execution_count": 7,
     "metadata": {},
     "output_type": "execute_result"
    }
   ],
   "source": [
    "messages_gpt('what is a banana')"
   ]
  },
  {
   "cell_type": "code",
   "execution_count": 9,
   "id": "4090e626-fe7b-4826-8a89-f0715d29a6c2",
   "metadata": {},
   "outputs": [],
   "source": [
    "# Define this variable and then pass js=force_dark_mode when creating the Interface\n",
    "\n",
    "force_dark_mode = \"\"\"\n",
    "function refresh() {\n",
    "    const url = new URL(window.location);\n",
    "    if (url.searchParams.get('__theme') !== 'dark') {\n",
    "        url.searchParams.set('__theme', 'dark');\n",
    "        window.location.href = url.href;\n",
    "    }\n",
    "}\n",
    "\"\"\"\n"
   ]
  },
  {
   "cell_type": "code",
   "execution_count": null,
   "id": "44c37354-bc27-4065-b1f1-fb62a0c8d036",
   "metadata": {},
   "outputs": [],
   "source": [
    "system_message = \"You are a gym training and Nutritional assistant. You will provide a weekly nutritional plan and workout plan based on the user's gender, weight, height, activity level, fitness goals and dietary preferences.\"\n",
    "\n"
   ]
  },
  {
   "cell_type": "code",
   "execution_count": null,
   "id": "30407d77-4be8-4e85-b7c7-e0efd4453340",
   "metadata": {},
   "outputs": [],
   "source": [
    "def message_gpt(age,gender,weight,height,activity_level,fitness_goal,dietary_preference):\n",
    "    prompt = f\"\"\"\n",
    "    Age:{age}\n",
    "    Gender:{gender}\n",
    "    Weight:{weight} kg\n",
    "    Height:{height} cm\n",
    "    Activity Level:{activity_level}\n",
    "    Fitness Goal: {fitness_goal}\n",
    "    Dietary Preference: {dietary_preference}\n",
    "\n",
    "    Create a personalized weekly workout and meal plan for the user.Include:\n",
    "    - TDEE calculation of the user.\n",
    "    - Show how many Calories you adjusted and explain the reason based on their fitness goals.\n",
    "    - Daily macronutrient breakdown(protein,carbs,fats,fiber).\n",
    "    - Timings of the meal(am,pm).\n",
    "    - Breakdown of meals for each day.\n",
    "    - Give what meals have to eat and provide how much to eat based on lbs and provide macros alongside it.\n",
    "    - A 7-day workout plan including which workouts to do and include how many sets and reps.\n",
    "    - A 7-day workout schedule including rest days repetitions and sets.\n",
    "    - workouts and workout days should be based on their activity levels. \n",
    "    \"\"\"\n",
    "    messages = [\n",
    "        {\"role\": \"system\", \"content\": system_message},\n",
    "        {\"role\": \"user\", \"content\": prompt}\n",
    "      ]\n",
    "    completion = openai.chat.completions.create(\n",
    "        model='gpt-4',\n",
    "        messages=messages,\n",
    "    )\n",
    "    return completion.choices[0].message.content\n",
    "    "
   ]
  },
  {
   "cell_type": "code",
   "execution_count": null,
   "id": "d095fc5b-7733-4ca1-9bd1-deee0e903a38",
   "metadata": {},
   "outputs": [],
   "source": [
    "view = gr.Interface(\n",
    "    fn=message_gpt,\n",
    "    inputs=[\n",
    "        gr.Number(label=\"Age (years)\", value=25),\n",
    "        gr.Dropdown(choices=[\"Male\", \"Female\", \"Other\"], label=\"Gender\"),\n",
    "        gr.Number(label=\"Weight (kg)\", value=70),\n",
    "        gr.Number(label=\"Height (cm)\", value=170),\n",
    "        gr.Dropdown(\n",
    "            choices=[\n",
    "                \"Sedentary (little or no exercise)\",\n",
    "                \"Lightly active (1-3 days/week)\",\n",
    "                \"Moderately active (3-5 days/week)\",\n",
    "                \"Very active (6-7 days/week)\",\n",
    "                \"Super active (intense exercise/physical job)\",\n",
    "            ],\n",
    "            label=\"Activity Level\",\n",
    "            value=\"Moderately active (3-5 days/week)\",\n",
    "        ),\n",
    "        gr.Dropdown(\n",
    "            choices=[\n",
    "                \"Weight loss\",\n",
    "                \"Muscle Gain\",\n",
    "                \"Body Recomposition\",\n",
    "                \"Maintenance\"\n",
    "            ],\n",
    "            label=\"Fitness Goal\",\n",
    "            value=\"Body Recomposition\",  # Corrected to lowercase \"value\"\n",
    "        ),\n",
    "        gr.Dropdown(\n",
    "            choices=[\n",
    "                \"No restrictions\",\n",
    "                \"Vegetarian\",\n",
    "                \"Vegan\",\n",
    "                \"Keto\",\n",
    "                \"Low-carbs\"\n",
    "            ],\n",
    "            label=\"Dietary Preferences\",\n",
    "            value= \"No restrictions\",\n",
    "        ),\n",
    "    ],\n",
    "    \n",
    "    outputs=[gr.Markdown(label=\"Personalized Plan\")],\n",
    "    title=\"Personalized Fitness Planner\",\n",
    "    description=\"Provide your details to get a weekly workout and nutritional plan based on your fitness goals.\",\n",
    "    theme=None,\n",
    "    flagging_mode=\"never\",\n",
    "    js=force_dark_mode\n",
    ")\n",
    "view.launch(share=True)\n"
   ]
  },
  {
   "cell_type": "code",
   "execution_count": null,
   "id": "f5409568-c7d2-4d66-a599-90c129145510",
   "metadata": {},
   "outputs": [],
   "source": []
  }
 ],
 "metadata": {
  "kernelspec": {
   "display_name": "Python 3 (ipykernel)",
   "language": "python",
   "name": "python3"
  },
  "language_info": {
   "codemirror_mode": {
    "name": "ipython",
    "version": 3
   },
   "file_extension": ".py",
   "mimetype": "text/x-python",
   "name": "python",
   "nbconvert_exporter": "python",
   "pygments_lexer": "ipython3",
   "version": "3.12.7"
  }
 },
 "nbformat": 4,
 "nbformat_minor": 5
}
